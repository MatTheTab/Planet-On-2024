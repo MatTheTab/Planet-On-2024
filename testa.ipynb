{
 "cells": [
  {
   "cell_type": "code",
   "execution_count": 1,
   "metadata": {},
   "outputs": [],
   "source": [
    "import pandas as pd\n",
    "import numpy as np\n",
    "from bs4 import BeautifulSoup\n",
    "import re"
   ]
  },
  {
   "cell_type": "code",
   "execution_count": 2,
   "metadata": {},
   "outputs": [],
   "source": [
    "df=pd.read_csv('data/TenderResultNotice.csv')"
   ]
  },
  {
   "cell_type": "code",
   "execution_count": 3,
   "metadata": {},
   "outputs": [],
   "source": [
    "def remove_none(cont):\n",
    "    cont=eval(cont)\n",
    "    return len([x for x in cont if not all(v is None for v in x.values())])"
   ]
  },
  {
   "cell_type": "code",
   "execution_count": 4,
   "metadata": {},
   "outputs": [],
   "source": [
    "df['contractors']=df['contractors'].apply(remove_none)"
   ]
  },
  {
   "cell_type": "code",
   "execution_count": 5,
   "metadata": {},
   "outputs": [
    {
     "data": {
      "text/plain": [
       "243843"
      ]
     },
     "execution_count": 5,
     "metadata": {},
     "output_type": "execute_result"
    }
   ],
   "source": [
    "len(df)"
   ]
  },
  {
   "cell_type": "code",
   "execution_count": 6,
   "metadata": {},
   "outputs": [],
   "source": [
    "ids=pd.read_csv('data_processed/ids_all.csv')"
   ]
  },
  {
   "cell_type": "code",
   "execution_count": 7,
   "metadata": {},
   "outputs": [],
   "source": [
    "df.drop(np.where(df['contractors']==0)[0], inplace=True)"
   ]
  },
  {
   "cell_type": "code",
   "execution_count": 8,
   "metadata": {},
   "outputs": [],
   "source": [
    "df.drop_duplicates(inplace=True)"
   ]
  },
  {
   "cell_type": "code",
   "execution_count": 9,
   "metadata": {},
   "outputs": [],
   "source": [
    "subset_df = df[df['tenderId'].isin(ids['tenderId'])]"
   ]
  },
  {
   "cell_type": "code",
   "execution_count": 10,
   "metadata": {},
   "outputs": [
    {
     "data": {
      "text/plain": [
       "201512"
      ]
     },
     "execution_count": 10,
     "metadata": {},
     "output_type": "execute_result"
    }
   ],
   "source": [
    "len(df)"
   ]
  },
  {
   "cell_type": "code",
   "execution_count": 12,
   "metadata": {},
   "outputs": [
    {
     "data": {
      "text/plain": [
       "163878"
      ]
     },
     "execution_count": 12,
     "metadata": {},
     "output_type": "execute_result"
    }
   ],
   "source": [
    "len(subset_df)"
   ]
  },
  {
   "cell_type": "code",
   "execution_count": 13,
   "metadata": {},
   "outputs": [
    {
     "data": {
      "text/plain": [
       "163183"
      ]
     },
     "execution_count": 13,
     "metadata": {},
     "output_type": "execute_result"
    }
   ],
   "source": [
    "len(ids)"
   ]
  },
  {
   "cell_type": "code",
   "execution_count": 18,
   "metadata": {},
   "outputs": [],
   "source": [
    "ids= ids[~ids['tenderId'].duplicated(keep=False)]"
   ]
  },
  {
   "cell_type": "code",
   "execution_count": 31,
   "metadata": {},
   "outputs": [
    {
     "data": {
      "text/plain": [
       "162363"
      ]
     },
     "execution_count": 31,
     "metadata": {},
     "output_type": "execute_result"
    }
   ],
   "source": [
    "len(ids)"
   ]
  },
  {
   "cell_type": "code",
   "execution_count": 36,
   "metadata": {},
   "outputs": [],
   "source": [
    "ids.to_csv('data_processed/ids_all.csv')"
   ]
  },
  {
   "cell_type": "code",
   "execution_count": 29,
   "metadata": {},
   "outputs": [],
   "source": [
    "subset_df = df[df['tenderId'].isin(ids['tenderId'])]"
   ]
  },
  {
   "cell_type": "code",
   "execution_count": 32,
   "metadata": {},
   "outputs": [],
   "source": [
    "df_cleaned = subset_df[~subset_df['tenderId'].duplicated(keep=False)]"
   ]
  },
  {
   "cell_type": "code",
   "execution_count": 30,
   "metadata": {},
   "outputs": [],
   "source": [
    "df.drop(columns=['clientType', 'tenderType', 'noticeType', 'noticeNumber', 'publicationDate', 'organizationName', 'organizationCity', 'submittingOffersDate', 'procedureResult', 'organizationProvince', 'organizationCountry', 'organizationNationalId', 'organizationId'], inplace=True)"
   ]
  },
  {
   "cell_type": "code",
   "execution_count": null,
   "metadata": {},
   "outputs": [],
   "source": []
  },
  {
   "cell_type": "code",
   "execution_count": 31,
   "metadata": {},
   "outputs": [],
   "source": [
    "def remove_tags(html):\n",
    "    soup=BeautifulSoup(html)\n",
    "    txt=soup.get_text()\n",
    "    c={}\n",
    "    txt=list(txt.split())\n",
    "    pattern=r\"(\\d+\\.\\d+\\.?\\))\"\n",
    "    num_pattern=r\"(\\d+\\.\\d+)\"\n",
    "    for x in range(len(txt)):\n",
    "    \n",
    "        if txt[x]=='PLN':\n",
    "            i=x-1\n",
    "\n",
    "            p=[]\n",
    "            while True:\n",
    "                i-=1\n",
    "                if re.search(pattern, txt[i]) is not None:\n",
    "                \n",
    "                    p.append(txt[i])\n",
    "                    break\n",
    "            \n",
    "            t=' '.join(p)\n",
    "            cand=txt[x-1]\n",
    "            if '.' in cand:\n",
    "                \n",
    "                cand=cand.replace('.','')\n",
    "     \n",
    "            if ',-' in cand:\n",
    "                cand=cand.replace('-', '0')\n",
    "      \n",
    "            if ',' in cand:\n",
    "                cand=cand.replace(',','.')\n",
    "     \n",
    "            cand=re.findall(num_pattern, cand)\n",
    "            if len(cand)>0:\n",
    "                cand=float(cand[0])\n",
    "                c[t]=cand\n",
    "            \n",
    "           \n",
    "\n",
    "    return c"
   ]
  },
  {
   "cell_type": "code",
   "execution_count": 32,
   "metadata": {},
   "outputs": [],
   "source": [
    "from copy import deepcopy"
   ]
  },
  {
   "cell_type": "code",
   "execution_count": null,
   "metadata": {},
   "outputs": [
    {
     "data": {
      "text/plain": [
       "0         ocds-148610-7e74b48f-5f85-11ed-8832-4e4740e186ac\n",
       "1         ocds-148610-0db58845-6b11-11ed-abdb-a69c1593877c\n",
       "2         ocds-148610-e5149d4c-7d37-11ed-b4ea-f64d350121d2\n",
       "3         ocds-148610-406a4c6f-600e-11ed-9171-f6b7c7d59353\n",
       "4         ocds-148610-1ec2c002-7487-11ed-b4ea-f64d350121d2\n",
       "                                ...                       \n",
       "243836    ocds-148610-9469ed93-3bf7-4eac-ab6f-127e32558e4f\n",
       "243838    ocds-148610-820764a5-9cad-4786-a018-f91807d3c8f8\n",
       "243839    ocds-148610-b8b81fbd-5081-4d93-b6d6-b29ed5015ab4\n",
       "243841    ocds-148610-03288797-1876-11ef-a7c1-72acb4a2af8f\n",
       "243842    ocds-148610-b14979cd-3add-41e6-b292-cb7795991bc4\n",
       "Name: tenderId, Length: 201512, dtype: object"
      ]
     },
     "execution_count": 40,
     "metadata": {},
     "output_type": "execute_result"
    }
   ],
   "source": []
  },
  {
   "cell_type": "code",
   "execution_count": 33,
   "metadata": {},
   "outputs": [],
   "source": [
    "subset=deepcopy(df[:10000])"
   ]
  },
  {
   "cell_type": "code",
   "execution_count": 34,
   "metadata": {},
   "outputs": [],
   "source": [
    "subset['htmlBody']=subset['htmlBody'].apply(remove_tags)"
   ]
  },
  {
   "cell_type": "code",
   "execution_count": 35,
   "metadata": {},
   "outputs": [],
   "source": [
    "subset.to_csv('data_processed/subsetWyniki10k.csv')"
   ]
  },
  {
   "cell_type": "code",
   "execution_count": 37,
   "metadata": {},
   "outputs": [],
   "source": [
    "ids=df.tenderId"
   ]
  },
  {
   "cell_type": "code",
   "execution_count": 39,
   "metadata": {},
   "outputs": [
    {
     "name": "stderr",
     "output_type": "stream",
     "text": [
      "C:\\Users\\creep\\AppData\\Local\\Temp/ipykernel_24496/1337289566.py:1: DtypeWarning: Columns (16) have mixed types. Specify dtype option on import or set low_memory=False.\n",
      "  df=pd.read_csv('data/ContractNotice.csv')\n"
     ]
    }
   ],
   "source": [
    "df=pd.read_csv('data/ContractNotice.csv')"
   ]
  },
  {
   "cell_type": "code",
   "execution_count": null,
   "metadata": {},
   "outputs": [],
   "source": []
  },
  {
   "cell_type": "code",
   "execution_count": 42,
   "metadata": {},
   "outputs": [
    {
     "data": {
      "text/html": [
       "<div>\n",
       "<style scoped>\n",
       "    .dataframe tbody tr th:only-of-type {\n",
       "        vertical-align: middle;\n",
       "    }\n",
       "\n",
       "    .dataframe tbody tr th {\n",
       "        vertical-align: top;\n",
       "    }\n",
       "\n",
       "    .dataframe thead th {\n",
       "        text-align: right;\n",
       "    }\n",
       "</style>\n",
       "<table border=\"1\" class=\"dataframe\">\n",
       "  <thead>\n",
       "    <tr style=\"text-align: right;\">\n",
       "      <th></th>\n",
       "      <th>clientType</th>\n",
       "      <th>orderType</th>\n",
       "      <th>tenderType</th>\n",
       "      <th>noticeType</th>\n",
       "      <th>noticeNumber</th>\n",
       "      <th>bzpNumber</th>\n",
       "      <th>isTenderAmountBelowEU</th>\n",
       "      <th>publicationDate</th>\n",
       "      <th>orderObject</th>\n",
       "      <th>cpvCode</th>\n",
       "      <th>...</th>\n",
       "      <th>organizationName</th>\n",
       "      <th>organizationCity</th>\n",
       "      <th>organizationProvince</th>\n",
       "      <th>organizationCountry</th>\n",
       "      <th>organizationNationalId</th>\n",
       "      <th>organizationId</th>\n",
       "      <th>tenderId</th>\n",
       "      <th>htmlBody</th>\n",
       "      <th>contractors</th>\n",
       "      <th>objectId</th>\n",
       "    </tr>\n",
       "  </thead>\n",
       "  <tbody>\n",
       "    <tr>\n",
       "      <th>1</th>\n",
       "      <td>1.1.12</td>\n",
       "      <td>Delivery</td>\n",
       "      <td>1.1.1</td>\n",
       "      <td>ContractNotice</td>\n",
       "      <td>2023/BZP 00000025/01</td>\n",
       "      <td>2023/BZP 00000025</td>\n",
       "      <td>True</td>\n",
       "      <td>2023-01-02T06:14:41.624Z</td>\n",
       "      <td>Dostawa gazów medycznych wraz z dzierżawą butl...</td>\n",
       "      <td>24111500-0 (Gazy medyczne),24111000-5 (Wodór, ...</td>\n",
       "      <td>...</td>\n",
       "      <td>POWIATOWY ZAKŁAD OPIEKI ZDROWOTNEJ</td>\n",
       "      <td>Starachowice</td>\n",
       "      <td>PL26</td>\n",
       "      <td>PL</td>\n",
       "      <td>6641873185</td>\n",
       "      <td>7730</td>\n",
       "      <td>ocds-148610-65bc0cb3-86a2-11ed-94da-6ae0fe5e7159</td>\n",
       "      <td>&lt;html&gt;&lt;head&gt;&lt;meta charset=\"UTF-8\"&gt;&lt;style&gt;body ...</td>\n",
       "      <td>NaN</td>\n",
       "      <td>08daec88-a2be-9d2b-100a-0600107fa4a5</td>\n",
       "    </tr>\n",
       "    <tr>\n",
       "      <th>2</th>\n",
       "      <td>1.4</td>\n",
       "      <td>Delivery</td>\n",
       "      <td>1.1.1</td>\n",
       "      <td>ContractNotice</td>\n",
       "      <td>2023/BZP 00000028/01</td>\n",
       "      <td>2023/BZP 00000028</td>\n",
       "      <td>True</td>\n",
       "      <td>2023-01-02T06:23:40.899Z</td>\n",
       "      <td>1-P-23 Akcesoria do urządzeń medycznych</td>\n",
       "      <td>33168000-5 (Przyrządy do endoskopii, endochiru...</td>\n",
       "      <td>...</td>\n",
       "      <td>Szpital Miejski nr 4 w Gliwicach Sp. z o.o.</td>\n",
       "      <td>Gliwice</td>\n",
       "      <td>PL24</td>\n",
       "      <td>PL</td>\n",
       "      <td>6312658474</td>\n",
       "      <td>10257</td>\n",
       "      <td>ocds-148610-cd97182f-8a63-11ed-b4ea-f64d350121d2</td>\n",
       "      <td>&lt;html&gt;&lt;head&gt;&lt;meta charset=\"UTF-8\"&gt;&lt;style&gt;body ...</td>\n",
       "      <td>NaN</td>\n",
       "      <td>08daec89-e42d-79e6-e8e1-8400116e04c3</td>\n",
       "    </tr>\n",
       "    <tr>\n",
       "      <th>3</th>\n",
       "      <td>1.4</td>\n",
       "      <td>Delivery</td>\n",
       "      <td>1.1.1</td>\n",
       "      <td>ContractNotice</td>\n",
       "      <td>2023/BZP 00000040/01</td>\n",
       "      <td>2023/BZP 00000040</td>\n",
       "      <td>True</td>\n",
       "      <td>2023-01-02T06:37:59.752Z</td>\n",
       "      <td>Sukcesywna dostawa drobnego sprzętu laboratory...</td>\n",
       "      <td>38000000-5 (Sprzęt laboratoryjny, optyczny i p...</td>\n",
       "      <td>...</td>\n",
       "      <td>INSTYTUT ZOOTECHNIKI - PAŃSTWOWY INSTYTUT BADA...</td>\n",
       "      <td>Kraków</td>\n",
       "      <td>PL12</td>\n",
       "      <td>PL</td>\n",
       "      <td>6750002130</td>\n",
       "      <td>4411</td>\n",
       "      <td>ocds-148610-f8a2c4f0-8a65-11ed-b4ea-f64d350121d2</td>\n",
       "      <td>&lt;html&gt;&lt;head&gt;&lt;meta charset=\"UTF-8\"&gt;&lt;style&gt;body ...</td>\n",
       "      <td>NaN</td>\n",
       "      <td>08daec8b-e418-1fcc-100a-0600107fa4af</td>\n",
       "    </tr>\n",
       "    <tr>\n",
       "      <th>4</th>\n",
       "      <td>1.4</td>\n",
       "      <td>Delivery</td>\n",
       "      <td>1.1.1</td>\n",
       "      <td>ContractNotice</td>\n",
       "      <td>2023/BZP 00000069/01</td>\n",
       "      <td>2023/BZP 00000069</td>\n",
       "      <td>True</td>\n",
       "      <td>2023-01-02T06:56:39.735Z</td>\n",
       "      <td>2-P-23  Leki i inne produkty lecznicze</td>\n",
       "      <td>33600000-6 (Produkty farmaceutyczne)</td>\n",
       "      <td>...</td>\n",
       "      <td>Szpital Miejski nr 4 w Gliwicach Sp. z o.o.</td>\n",
       "      <td>Gliwice</td>\n",
       "      <td>PL24</td>\n",
       "      <td>PL</td>\n",
       "      <td>6312658474</td>\n",
       "      <td>10257</td>\n",
       "      <td>ocds-148610-3ee37822-8a68-11ed-94da-6ae0fe5e7159</td>\n",
       "      <td>&lt;html&gt;&lt;head&gt;&lt;meta charset=\"UTF-8\"&gt;&lt;style&gt;body ...</td>\n",
       "      <td>NaN</td>\n",
       "      <td>08daec8e-7fa7-7790-e8e1-8400116e04d8</td>\n",
       "    </tr>\n",
       "    <tr>\n",
       "      <th>5</th>\n",
       "      <td>1.4</td>\n",
       "      <td>Delivery</td>\n",
       "      <td>1.1.1</td>\n",
       "      <td>ContractNotice</td>\n",
       "      <td>2023/BZP 00000264/01</td>\n",
       "      <td>2023/BZP 00000264</td>\n",
       "      <td>True</td>\n",
       "      <td>2023-01-02T07:45:08.9Z</td>\n",
       "      <td>Sukcesywna dostawa podstawowych odczynników ch...</td>\n",
       "      <td>33696300-8 (Odczynniki chemiczne)</td>\n",
       "      <td>...</td>\n",
       "      <td>INSTYTUT ZOOTECHNIKI - PAŃSTWOWY INSTYTUT BADA...</td>\n",
       "      <td>Kraków</td>\n",
       "      <td>PL12</td>\n",
       "      <td>PL</td>\n",
       "      <td>6750002130</td>\n",
       "      <td>4411</td>\n",
       "      <td>ocds-148610-c61d386a-8a6f-11ed-94da-6ae0fe5e7159</td>\n",
       "      <td>&lt;html&gt;&lt;head&gt;&lt;meta charset=\"UTF-8\"&gt;&lt;style&gt;body ...</td>\n",
       "      <td>NaN</td>\n",
       "      <td>08daec95-45a7-1ee8-100a-0600107fa52d</td>\n",
       "    </tr>\n",
       "    <tr>\n",
       "      <th>...</th>\n",
       "      <td>...</td>\n",
       "      <td>...</td>\n",
       "      <td>...</td>\n",
       "      <td>...</td>\n",
       "      <td>...</td>\n",
       "      <td>...</td>\n",
       "      <td>...</td>\n",
       "      <td>...</td>\n",
       "      <td>...</td>\n",
       "      <td>...</td>\n",
       "      <td>...</td>\n",
       "      <td>...</td>\n",
       "      <td>...</td>\n",
       "      <td>...</td>\n",
       "      <td>...</td>\n",
       "      <td>...</td>\n",
       "      <td>...</td>\n",
       "      <td>...</td>\n",
       "      <td>...</td>\n",
       "      <td>...</td>\n",
       "      <td>...</td>\n",
       "    </tr>\n",
       "    <tr>\n",
       "      <th>232136</th>\n",
       "      <td>1.5</td>\n",
       "      <td>Delivery</td>\n",
       "      <td>1.1.1</td>\n",
       "      <td>ContractNotice</td>\n",
       "      <td>2024/BZP 00585732/01</td>\n",
       "      <td>2024/BZP 00585732</td>\n",
       "      <td>True</td>\n",
       "      <td>2024-11-08T08:41:59.1614016Z</td>\n",
       "      <td>236/2024 Nasienie buhaja rasy PHF odmiany czar...</td>\n",
       "      <td>03141000-1 (Nasienie byków)</td>\n",
       "      <td>...</td>\n",
       "      <td>Instytut Zootechniki Państwowy Instytut Badawc...</td>\n",
       "      <td>Pawłowice</td>\n",
       "      <td>PL30</td>\n",
       "      <td>PL</td>\n",
       "      <td>6750002130</td>\n",
       "      <td>902</td>\n",
       "      <td>ocds-148610-4c0494e6-e50b-46af-8804-203b43aac5e4</td>\n",
       "      <td>&lt;html&gt;&lt;head&gt;&lt;meta charset=\"UTF-8\"&gt;&lt;style&gt;body ...</td>\n",
       "      <td>NaN</td>\n",
       "      <td>08dcffd1-3593-fa7d-985c-bb00013481e0</td>\n",
       "    </tr>\n",
       "    <tr>\n",
       "      <th>232139</th>\n",
       "      <td>1.5</td>\n",
       "      <td>Delivery</td>\n",
       "      <td>1.1.1</td>\n",
       "      <td>ContractNotice</td>\n",
       "      <td>2024/BZP 00585773/01</td>\n",
       "      <td>2024/BZP 00585773</td>\n",
       "      <td>True</td>\n",
       "      <td>2024-11-08T08:47:26.0758782Z</td>\n",
       "      <td>237/2024 Nasienie buhaja rasy PHF odmiany czar...</td>\n",
       "      <td>03141000-1 (Nasienie byków)</td>\n",
       "      <td>...</td>\n",
       "      <td>Instytut Zootechniki Państwowy Instytut Badawc...</td>\n",
       "      <td>Pawłowice</td>\n",
       "      <td>PL30</td>\n",
       "      <td>PL</td>\n",
       "      <td>6750002130</td>\n",
       "      <td>902</td>\n",
       "      <td>ocds-148610-e4436a94-5985-48ca-aad9-ceb5d7e8452e</td>\n",
       "      <td>&lt;html&gt;&lt;head&gt;&lt;meta charset=\"UTF-8\"&gt;&lt;style&gt;body ...</td>\n",
       "      <td>NaN</td>\n",
       "      <td>08dcffd1-fe1e-bb5a-985c-bb000134821d</td>\n",
       "    </tr>\n",
       "    <tr>\n",
       "      <th>232145</th>\n",
       "      <td>1.5</td>\n",
       "      <td>Delivery</td>\n",
       "      <td>1.1.1</td>\n",
       "      <td>ContractNotice</td>\n",
       "      <td>2024/BZP 00585805/01</td>\n",
       "      <td>2024/BZP 00585805</td>\n",
       "      <td>True</td>\n",
       "      <td>2024-11-08T08:52:08.2551538Z</td>\n",
       "      <td>238/2024 Nasienie buhaja rasy PHF odmiany czar...</td>\n",
       "      <td>03141000-1 (Nasienie byków)</td>\n",
       "      <td>...</td>\n",
       "      <td>Instytut Zootechniki Państwowy Instytut Badawc...</td>\n",
       "      <td>Pawłowice</td>\n",
       "      <td>PL30</td>\n",
       "      <td>PL</td>\n",
       "      <td>6750002130</td>\n",
       "      <td>902</td>\n",
       "      <td>ocds-148610-f386f86c-dbd6-4f2d-9f00-c7f0167d1ee0</td>\n",
       "      <td>&lt;html&gt;&lt;head&gt;&lt;meta charset=\"UTF-8\"&gt;&lt;style&gt;body ...</td>\n",
       "      <td>NaN</td>\n",
       "      <td>08dcffd2-a09e-83a3-985c-bb000134824a</td>\n",
       "    </tr>\n",
       "    <tr>\n",
       "      <th>232150</th>\n",
       "      <td>1.5</td>\n",
       "      <td>Delivery</td>\n",
       "      <td>1.1.1</td>\n",
       "      <td>ContractNotice</td>\n",
       "      <td>2024/BZP 00585838/01</td>\n",
       "      <td>2024/BZP 00585838</td>\n",
       "      <td>True</td>\n",
       "      <td>2024-11-08T08:57:17.7524176Z</td>\n",
       "      <td>239/2024 Nasienie buhaja rasy PHF odmiany czar...</td>\n",
       "      <td>03141000-1 (Nasienie byków)</td>\n",
       "      <td>...</td>\n",
       "      <td>Instytut Zootechniki Państwowy Instytut Badawc...</td>\n",
       "      <td>Pawłowice</td>\n",
       "      <td>PL30</td>\n",
       "      <td>PL</td>\n",
       "      <td>6750002130</td>\n",
       "      <td>902</td>\n",
       "      <td>ocds-148610-d84fe752-d690-451d-ba8b-e5f9d88fa1c8</td>\n",
       "      <td>&lt;html&gt;&lt;head&gt;&lt;meta charset=\"UTF-8\"&gt;&lt;style&gt;body ...</td>\n",
       "      <td>NaN</td>\n",
       "      <td>08dcffd3-5918-8bc0-985c-bb0001348277</td>\n",
       "    </tr>\n",
       "    <tr>\n",
       "      <th>232555</th>\n",
       "      <td>1.5</td>\n",
       "      <td>Delivery</td>\n",
       "      <td>1.1.1</td>\n",
       "      <td>ContractNotice</td>\n",
       "      <td>2024/BZP 00587334/01</td>\n",
       "      <td>2024/BZP 00587334</td>\n",
       "      <td>True</td>\n",
       "      <td>2024-11-08T13:06:24.422699Z</td>\n",
       "      <td>Zakup sprzętu komputerowego wraz z oprogramowa...</td>\n",
       "      <td>30200000-1 (Urządzenia komputerowe),48620000-0...</td>\n",
       "      <td>...</td>\n",
       "      <td>Wojewódzki Fundusz Ochrony Środowiska i Gospod...</td>\n",
       "      <td>Olsztyn</td>\n",
       "      <td>PL28</td>\n",
       "      <td>PL</td>\n",
       "      <td>7393784538</td>\n",
       "      <td>7395</td>\n",
       "      <td>ocds-148610-9e159685-47e9-4b97-9a26-5936c2ce8fb4</td>\n",
       "      <td>&lt;html&gt;&lt;head&gt;&lt;meta charset=\"UTF-8\"&gt;&lt;style&gt;body ...</td>\n",
       "      <td>NaN</td>\n",
       "      <td>08dcfff6-2602-e421-985c-bb000134896b</td>\n",
       "    </tr>\n",
       "  </tbody>\n",
       "</table>\n",
       "<p>163183 rows × 22 columns</p>\n",
       "</div>"
      ],
      "text/plain": [
       "       clientType orderType tenderType      noticeType          noticeNumber  \\\n",
       "1          1.1.12  Delivery      1.1.1  ContractNotice  2023/BZP 00000025/01   \n",
       "2             1.4  Delivery      1.1.1  ContractNotice  2023/BZP 00000028/01   \n",
       "3             1.4  Delivery      1.1.1  ContractNotice  2023/BZP 00000040/01   \n",
       "4             1.4  Delivery      1.1.1  ContractNotice  2023/BZP 00000069/01   \n",
       "5             1.4  Delivery      1.1.1  ContractNotice  2023/BZP 00000264/01   \n",
       "...           ...       ...        ...             ...                   ...   \n",
       "232136        1.5  Delivery      1.1.1  ContractNotice  2024/BZP 00585732/01   \n",
       "232139        1.5  Delivery      1.1.1  ContractNotice  2024/BZP 00585773/01   \n",
       "232145        1.5  Delivery      1.1.1  ContractNotice  2024/BZP 00585805/01   \n",
       "232150        1.5  Delivery      1.1.1  ContractNotice  2024/BZP 00585838/01   \n",
       "232555        1.5  Delivery      1.1.1  ContractNotice  2024/BZP 00587334/01   \n",
       "\n",
       "                bzpNumber  isTenderAmountBelowEU  \\\n",
       "1       2023/BZP 00000025                   True   \n",
       "2       2023/BZP 00000028                   True   \n",
       "3       2023/BZP 00000040                   True   \n",
       "4       2023/BZP 00000069                   True   \n",
       "5       2023/BZP 00000264                   True   \n",
       "...                   ...                    ...   \n",
       "232136  2024/BZP 00585732                   True   \n",
       "232139  2024/BZP 00585773                   True   \n",
       "232145  2024/BZP 00585805                   True   \n",
       "232150  2024/BZP 00585838                   True   \n",
       "232555  2024/BZP 00587334                   True   \n",
       "\n",
       "                     publicationDate  \\\n",
       "1           2023-01-02T06:14:41.624Z   \n",
       "2           2023-01-02T06:23:40.899Z   \n",
       "3           2023-01-02T06:37:59.752Z   \n",
       "4           2023-01-02T06:56:39.735Z   \n",
       "5             2023-01-02T07:45:08.9Z   \n",
       "...                              ...   \n",
       "232136  2024-11-08T08:41:59.1614016Z   \n",
       "232139  2024-11-08T08:47:26.0758782Z   \n",
       "232145  2024-11-08T08:52:08.2551538Z   \n",
       "232150  2024-11-08T08:57:17.7524176Z   \n",
       "232555   2024-11-08T13:06:24.422699Z   \n",
       "\n",
       "                                              orderObject  \\\n",
       "1       Dostawa gazów medycznych wraz z dzierżawą butl...   \n",
       "2                 1-P-23 Akcesoria do urządzeń medycznych   \n",
       "3       Sukcesywna dostawa drobnego sprzętu laboratory...   \n",
       "4                  2-P-23  Leki i inne produkty lecznicze   \n",
       "5       Sukcesywna dostawa podstawowych odczynników ch...   \n",
       "...                                                   ...   \n",
       "232136  236/2024 Nasienie buhaja rasy PHF odmiany czar...   \n",
       "232139  237/2024 Nasienie buhaja rasy PHF odmiany czar...   \n",
       "232145  238/2024 Nasienie buhaja rasy PHF odmiany czar...   \n",
       "232150  239/2024 Nasienie buhaja rasy PHF odmiany czar...   \n",
       "232555  Zakup sprzętu komputerowego wraz z oprogramowa...   \n",
       "\n",
       "                                                  cpvCode  ...  \\\n",
       "1       24111500-0 (Gazy medyczne),24111000-5 (Wodór, ...  ...   \n",
       "2       33168000-5 (Przyrządy do endoskopii, endochiru...  ...   \n",
       "3       38000000-5 (Sprzęt laboratoryjny, optyczny i p...  ...   \n",
       "4                    33600000-6 (Produkty farmaceutyczne)  ...   \n",
       "5                       33696300-8 (Odczynniki chemiczne)  ...   \n",
       "...                                                   ...  ...   \n",
       "232136                        03141000-1 (Nasienie byków)  ...   \n",
       "232139                        03141000-1 (Nasienie byków)  ...   \n",
       "232145                        03141000-1 (Nasienie byków)  ...   \n",
       "232150                        03141000-1 (Nasienie byków)  ...   \n",
       "232555  30200000-1 (Urządzenia komputerowe),48620000-0...  ...   \n",
       "\n",
       "                                         organizationName  organizationCity  \\\n",
       "1                      POWIATOWY ZAKŁAD OPIEKI ZDROWOTNEJ      Starachowice   \n",
       "2             Szpital Miejski nr 4 w Gliwicach Sp. z o.o.           Gliwice   \n",
       "3       INSTYTUT ZOOTECHNIKI - PAŃSTWOWY INSTYTUT BADA...            Kraków   \n",
       "4             Szpital Miejski nr 4 w Gliwicach Sp. z o.o.           Gliwice   \n",
       "5       INSTYTUT ZOOTECHNIKI - PAŃSTWOWY INSTYTUT BADA...            Kraków   \n",
       "...                                                   ...               ...   \n",
       "232136  Instytut Zootechniki Państwowy Instytut Badawc...         Pawłowice   \n",
       "232139  Instytut Zootechniki Państwowy Instytut Badawc...         Pawłowice   \n",
       "232145  Instytut Zootechniki Państwowy Instytut Badawc...         Pawłowice   \n",
       "232150  Instytut Zootechniki Państwowy Instytut Badawc...         Pawłowice   \n",
       "232555  Wojewódzki Fundusz Ochrony Środowiska i Gospod...           Olsztyn   \n",
       "\n",
       "       organizationProvince organizationCountry organizationNationalId  \\\n",
       "1                      PL26                  PL             6641873185   \n",
       "2                      PL24                  PL             6312658474   \n",
       "3                      PL12                  PL             6750002130   \n",
       "4                      PL24                  PL             6312658474   \n",
       "5                      PL12                  PL             6750002130   \n",
       "...                     ...                 ...                    ...   \n",
       "232136                 PL30                  PL             6750002130   \n",
       "232139                 PL30                  PL             6750002130   \n",
       "232145                 PL30                  PL             6750002130   \n",
       "232150                 PL30                  PL             6750002130   \n",
       "232555                 PL28                  PL             7393784538   \n",
       "\n",
       "       organizationId                                          tenderId  \\\n",
       "1                7730  ocds-148610-65bc0cb3-86a2-11ed-94da-6ae0fe5e7159   \n",
       "2               10257  ocds-148610-cd97182f-8a63-11ed-b4ea-f64d350121d2   \n",
       "3                4411  ocds-148610-f8a2c4f0-8a65-11ed-b4ea-f64d350121d2   \n",
       "4               10257  ocds-148610-3ee37822-8a68-11ed-94da-6ae0fe5e7159   \n",
       "5                4411  ocds-148610-c61d386a-8a6f-11ed-94da-6ae0fe5e7159   \n",
       "...               ...                                               ...   \n",
       "232136            902  ocds-148610-4c0494e6-e50b-46af-8804-203b43aac5e4   \n",
       "232139            902  ocds-148610-e4436a94-5985-48ca-aad9-ceb5d7e8452e   \n",
       "232145            902  ocds-148610-f386f86c-dbd6-4f2d-9f00-c7f0167d1ee0   \n",
       "232150            902  ocds-148610-d84fe752-d690-451d-ba8b-e5f9d88fa1c8   \n",
       "232555           7395  ocds-148610-9e159685-47e9-4b97-9a26-5936c2ce8fb4   \n",
       "\n",
       "                                                 htmlBody contractors  \\\n",
       "1       <html><head><meta charset=\"UTF-8\"><style>body ...         NaN   \n",
       "2       <html><head><meta charset=\"UTF-8\"><style>body ...         NaN   \n",
       "3       <html><head><meta charset=\"UTF-8\"><style>body ...         NaN   \n",
       "4       <html><head><meta charset=\"UTF-8\"><style>body ...         NaN   \n",
       "5       <html><head><meta charset=\"UTF-8\"><style>body ...         NaN   \n",
       "...                                                   ...         ...   \n",
       "232136  <html><head><meta charset=\"UTF-8\"><style>body ...         NaN   \n",
       "232139  <html><head><meta charset=\"UTF-8\"><style>body ...         NaN   \n",
       "232145  <html><head><meta charset=\"UTF-8\"><style>body ...         NaN   \n",
       "232150  <html><head><meta charset=\"UTF-8\"><style>body ...         NaN   \n",
       "232555  <html><head><meta charset=\"UTF-8\"><style>body ...         NaN   \n",
       "\n",
       "                                    objectId  \n",
       "1       08daec88-a2be-9d2b-100a-0600107fa4a5  \n",
       "2       08daec89-e42d-79e6-e8e1-8400116e04c3  \n",
       "3       08daec8b-e418-1fcc-100a-0600107fa4af  \n",
       "4       08daec8e-7fa7-7790-e8e1-8400116e04d8  \n",
       "5       08daec95-45a7-1ee8-100a-0600107fa52d  \n",
       "...                                      ...  \n",
       "232136  08dcffd1-3593-fa7d-985c-bb00013481e0  \n",
       "232139  08dcffd1-fe1e-bb5a-985c-bb000134821d  \n",
       "232145  08dcffd2-a09e-83a3-985c-bb000134824a  \n",
       "232150  08dcffd3-5918-8bc0-985c-bb0001348277  \n",
       "232555  08dcfff6-2602-e421-985c-bb000134896b  \n",
       "\n",
       "[163183 rows x 22 columns]"
      ]
     },
     "execution_count": 42,
     "metadata": {},
     "output_type": "execute_result"
    }
   ],
   "source": [
    "subset_df"
   ]
  },
  {
   "cell_type": "code",
   "execution_count": 44,
   "metadata": {},
   "outputs": [],
   "source": [
    "ids_all=subset_df['tenderId']"
   ]
  },
  {
   "cell_type": "code",
   "execution_count": 46,
   "metadata": {},
   "outputs": [],
   "source": [
    "ids_all.to_csv('data_processed/ids_all.csv')"
   ]
  },
  {
   "cell_type": "code",
   "execution_count": 47,
   "metadata": {},
   "outputs": [],
   "source": [
    "subset_df.to_csv('data_processed/full_contracts.csv')"
   ]
  },
  {
   "cell_type": "code",
   "execution_count": 17,
   "metadata": {},
   "outputs": [
    {
     "data": {
      "text/html": [
       "<div>\n",
       "<style scoped>\n",
       "    .dataframe tbody tr th:only-of-type {\n",
       "        vertical-align: middle;\n",
       "    }\n",
       "\n",
       "    .dataframe tbody tr th {\n",
       "        vertical-align: top;\n",
       "    }\n",
       "\n",
       "    .dataframe thead th {\n",
       "        text-align: right;\n",
       "    }\n",
       "</style>\n",
       "<table border=\"1\" class=\"dataframe\">\n",
       "  <thead>\n",
       "    <tr style=\"text-align: right;\">\n",
       "      <th></th>\n",
       "      <th>orderType</th>\n",
       "      <th>bzpNumber</th>\n",
       "      <th>isTenderAmountBelowEU</th>\n",
       "      <th>orderObject</th>\n",
       "      <th>cpvCode</th>\n",
       "      <th>htmlBody</th>\n",
       "      <th>contractors</th>\n",
       "    </tr>\n",
       "  </thead>\n",
       "  <tbody>\n",
       "    <tr>\n",
       "      <th>0</th>\n",
       "      <td>Services</td>\n",
       "      <td>2023/BZP 00000008</td>\n",
       "      <td>True</td>\n",
       "      <td>„Przewóz dzieci przedszkolnych i uczniów szkół...</td>\n",
       "      <td>60100000-9 (Usługi w zakresie transportu drogo...</td>\n",
       "      <td>{'4.3.)': 431252.33, '4.3.1)': 399307.71, '4.5...</td>\n",
       "      <td>2</td>\n",
       "    </tr>\n",
       "    <tr>\n",
       "      <th>1</th>\n",
       "      <td>Services</td>\n",
       "      <td>2023/BZP 00000010</td>\n",
       "      <td>True</td>\n",
       "      <td>Usługi restauracyjne na rzecz uczniów Szkoły P...</td>\n",
       "      <td>55523100-3 (Usługi w zakresie posiłków szkolny...</td>\n",
       "      <td>{'6.2.)': 1210100.0, '6.3.)': 1383400.0, '6.4....</td>\n",
       "      <td>1</td>\n",
       "    </tr>\n",
       "    <tr>\n",
       "      <th>2</th>\n",
       "      <td>Services</td>\n",
       "      <td>2023/BZP 00000022</td>\n",
       "      <td>True</td>\n",
       "      <td>Zimowe utrzymanie obiektów drogowych: chodnikó...</td>\n",
       "      <td>90620000-9 (Usługi odśnieżania)</td>\n",
       "      <td>{'4.3.)': 438662.19, '8.2.)': 703677.89}</td>\n",
       "      <td>1</td>\n",
       "    </tr>\n",
       "    <tr>\n",
       "      <th>3</th>\n",
       "      <td>Works</td>\n",
       "      <td>2023/BZP 00000031</td>\n",
       "      <td>True</td>\n",
       "      <td>Remont 5 lokali mieszkalnych zasobu Gminy Miej...</td>\n",
       "      <td>45453000-7 (Roboty remontowe i renowacyjne),45...</td>\n",
       "      <td>{'4.3.)': 7407407.41, '4.3.1)': 238562.68, '4....</td>\n",
       "      <td>5</td>\n",
       "    </tr>\n",
       "    <tr>\n",
       "      <th>4</th>\n",
       "      <td>Services</td>\n",
       "      <td>2023/BZP 00000037</td>\n",
       "      <td>True</td>\n",
       "      <td>Świadczenie usług utrzymania czystości.</td>\n",
       "      <td>90919200-4 (Usługi sprzątania biur),90919100-3...</td>\n",
       "      <td>{'4.3.)': 229952.0, '4.5.5.)': 109584.0, '6.2....</td>\n",
       "      <td>1</td>\n",
       "    </tr>\n",
       "  </tbody>\n",
       "</table>\n",
       "</div>"
      ],
      "text/plain": [
       "  orderType          bzpNumber  isTenderAmountBelowEU  \\\n",
       "0  Services  2023/BZP 00000008                   True   \n",
       "1  Services  2023/BZP 00000010                   True   \n",
       "2  Services  2023/BZP 00000022                   True   \n",
       "3     Works  2023/BZP 00000031                   True   \n",
       "4  Services  2023/BZP 00000037                   True   \n",
       "\n",
       "                                         orderObject  \\\n",
       "0  „Przewóz dzieci przedszkolnych i uczniów szkół...   \n",
       "1  Usługi restauracyjne na rzecz uczniów Szkoły P...   \n",
       "2  Zimowe utrzymanie obiektów drogowych: chodnikó...   \n",
       "3  Remont 5 lokali mieszkalnych zasobu Gminy Miej...   \n",
       "4            Świadczenie usług utrzymania czystości.   \n",
       "\n",
       "                                             cpvCode  \\\n",
       "0  60100000-9 (Usługi w zakresie transportu drogo...   \n",
       "1  55523100-3 (Usługi w zakresie posiłków szkolny...   \n",
       "2                    90620000-9 (Usługi odśnieżania)   \n",
       "3  45453000-7 (Roboty remontowe i renowacyjne),45...   \n",
       "4  90919200-4 (Usługi sprzątania biur),90919100-3...   \n",
       "\n",
       "                                            htmlBody  contractors  \n",
       "0  {'4.3.)': 431252.33, '4.3.1)': 399307.71, '4.5...            2  \n",
       "1  {'6.2.)': 1210100.0, '6.3.)': 1383400.0, '6.4....            1  \n",
       "2           {'4.3.)': 438662.19, '8.2.)': 703677.89}            1  \n",
       "3  {'4.3.)': 7407407.41, '4.3.1)': 238562.68, '4....            5  \n",
       "4  {'4.3.)': 229952.0, '4.5.5.)': 109584.0, '6.2....            1  "
      ]
     },
     "execution_count": 17,
     "metadata": {},
     "output_type": "execute_result"
    }
   ],
   "source": [
    "subset.head()"
   ]
  },
  {
   "cell_type": "code",
   "execution_count": null,
   "metadata": {},
   "outputs": [],
   "source": []
  }
 ],
 "metadata": {
  "kernelspec": {
   "display_name": "Python 3",
   "language": "python",
   "name": "python3"
  },
  "language_info": {
   "codemirror_mode": {
    "name": "ipython",
    "version": 3
   },
   "file_extension": ".py",
   "mimetype": "text/x-python",
   "name": "python",
   "nbconvert_exporter": "python",
   "pygments_lexer": "ipython3",
   "version": "3.10.0"
  }
 },
 "nbformat": 4,
 "nbformat_minor": 2
}
