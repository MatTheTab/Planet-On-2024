{
 "cells": [
  {
   "cell_type": "code",
   "execution_count": 22,
   "metadata": {},
   "outputs": [],
   "source": [
    "import pandas as pd\n",
    "import seaborn as sns\n",
    "import matplotlib.pyplot as plt"
   ]
  },
  {
   "cell_type": "code",
   "execution_count": null,
   "metadata": {},
   "outputs": [],
   "source": [
    "df1 = pd.read_csv('data_processed/subset10k_oneHot.csv')\n",
    "df2 = pd.read_csv('data_processed/subsetWyniki10_oneHot.csv')"
   ]
  },
  {
   "cell_type": "code",
   "execution_count": 45,
   "metadata": {},
   "outputs": [],
   "source": [
    "df1['7.5_combined'] = df1['7.5'] | df1['7.5.'] | df1['7.5.)']"
   ]
  },
  {
   "cell_type": "code",
   "execution_count": 46,
   "metadata": {},
   "outputs": [
    {
     "data": {
      "text/html": [
       "<div>\n",
       "<style scoped>\n",
       "    .dataframe tbody tr th:only-of-type {\n",
       "        vertical-align: middle;\n",
       "    }\n",
       "\n",
       "    .dataframe tbody tr th {\n",
       "        vertical-align: top;\n",
       "    }\n",
       "\n",
       "    .dataframe thead th {\n",
       "        text-align: right;\n",
       "    }\n",
       "</style>\n",
       "<table border=\"1\" class=\"dataframe\">\n",
       "  <thead>\n",
       "    <tr style=\"text-align: right;\">\n",
       "      <th></th>\n",
       "      <th>Unnamed: 0.1_x</th>\n",
       "      <th>Unnamed: 0_x</th>\n",
       "      <th>orderType</th>\n",
       "      <th>isTenderAmountBelowEU_x</th>\n",
       "      <th>orderObject_x</th>\n",
       "      <th>tenderId</th>\n",
       "      <th>contractors_x</th>\n",
       "      <th>objectId</th>\n",
       "      <th>71521000-6_x</th>\n",
       "      <th>98390000-3_x</th>\n",
       "      <th>...</th>\n",
       "      <th>6.3.)</th>\n",
       "      <th>8.4.)</th>\n",
       "      <th>4.3.)</th>\n",
       "      <th>4.5.1.)</th>\n",
       "      <th>4.3.1)</th>\n",
       "      <th>5.2.1.)</th>\n",
       "      <th>6.4.)</th>\n",
       "      <th>6.2.)</th>\n",
       "      <th>4.5.5.)</th>\n",
       "      <th>7.4.1.)</th>\n",
       "    </tr>\n",
       "  </thead>\n",
       "  <tbody>\n",
       "    <tr>\n",
       "      <th>0</th>\n",
       "      <td>0</td>\n",
       "      <td>0</td>\n",
       "      <td>Delivery</td>\n",
       "      <td>True</td>\n",
       "      <td>Dostawa gazów medycznych wraz z dzierżawą butl...</td>\n",
       "      <td>ocds-148610-65bc0cb3-86a2-11ed-94da-6ae0fe5e7159</td>\n",
       "      <td>NaN</td>\n",
       "      <td>08daec88-a2be-9d2b-100a-0600107fa4a5</td>\n",
       "      <td>0</td>\n",
       "      <td>0</td>\n",
       "      <td>...</td>\n",
       "      <td>875127.64</td>\n",
       "      <td>0.0</td>\n",
       "      <td>0.00</td>\n",
       "      <td>0.0</td>\n",
       "      <td>0.00</td>\n",
       "      <td>0.0</td>\n",
       "      <td>875127.64</td>\n",
       "      <td>875127.64</td>\n",
       "      <td>0.00</td>\n",
       "      <td>0.0</td>\n",
       "    </tr>\n",
       "    <tr>\n",
       "      <th>1</th>\n",
       "      <td>1</td>\n",
       "      <td>1</td>\n",
       "      <td>Delivery</td>\n",
       "      <td>True</td>\n",
       "      <td>1-P-23 Akcesoria do urządzeń medycznych</td>\n",
       "      <td>ocds-148610-cd97182f-8a63-11ed-b4ea-f64d350121d2</td>\n",
       "      <td>NaN</td>\n",
       "      <td>08daec89-e42d-79e6-e8e1-8400116e04c3</td>\n",
       "      <td>0</td>\n",
       "      <td>0</td>\n",
       "      <td>...</td>\n",
       "      <td>192952.95</td>\n",
       "      <td>0.0</td>\n",
       "      <td>0.00</td>\n",
       "      <td>0.0</td>\n",
       "      <td>0.00</td>\n",
       "      <td>0.0</td>\n",
       "      <td>192952.95</td>\n",
       "      <td>192952.95</td>\n",
       "      <td>17080.76</td>\n",
       "      <td>0.0</td>\n",
       "    </tr>\n",
       "    <tr>\n",
       "      <th>2</th>\n",
       "      <td>2</td>\n",
       "      <td>2</td>\n",
       "      <td>Delivery</td>\n",
       "      <td>True</td>\n",
       "      <td>Sukcesywna dostawa drobnego sprzętu laboratory...</td>\n",
       "      <td>ocds-148610-f8a2c4f0-8a65-11ed-b4ea-f64d350121d2</td>\n",
       "      <td>NaN</td>\n",
       "      <td>08daec8b-e418-1fcc-100a-0600107fa4af</td>\n",
       "      <td>0</td>\n",
       "      <td>0</td>\n",
       "      <td>...</td>\n",
       "      <td>42074.08</td>\n",
       "      <td>0.0</td>\n",
       "      <td>229044.28</td>\n",
       "      <td>0.0</td>\n",
       "      <td>103448.38</td>\n",
       "      <td>0.0</td>\n",
       "      <td>42074.08</td>\n",
       "      <td>42074.08</td>\n",
       "      <td>37393.50</td>\n",
       "      <td>0.0</td>\n",
       "    </tr>\n",
       "    <tr>\n",
       "      <th>3</th>\n",
       "      <td>3</td>\n",
       "      <td>3</td>\n",
       "      <td>Delivery</td>\n",
       "      <td>True</td>\n",
       "      <td>2-P-23  Leki i inne produkty lecznicze</td>\n",
       "      <td>ocds-148610-3ee37822-8a68-11ed-94da-6ae0fe5e7159</td>\n",
       "      <td>NaN</td>\n",
       "      <td>08daec8e-7fa7-7790-e8e1-8400116e04d8</td>\n",
       "      <td>0</td>\n",
       "      <td>0</td>\n",
       "      <td>...</td>\n",
       "      <td>134366.04</td>\n",
       "      <td>0.0</td>\n",
       "      <td>0.00</td>\n",
       "      <td>0.0</td>\n",
       "      <td>0.00</td>\n",
       "      <td>0.0</td>\n",
       "      <td>105127.20</td>\n",
       "      <td>105127.20</td>\n",
       "      <td>27313.40</td>\n",
       "      <td>0.0</td>\n",
       "    </tr>\n",
       "    <tr>\n",
       "      <th>4</th>\n",
       "      <td>4</td>\n",
       "      <td>4</td>\n",
       "      <td>Delivery</td>\n",
       "      <td>True</td>\n",
       "      <td>Sukcesywna dostawa podstawowych odczynników ch...</td>\n",
       "      <td>ocds-148610-c61d386a-8a6f-11ed-94da-6ae0fe5e7159</td>\n",
       "      <td>NaN</td>\n",
       "      <td>08daec95-45a7-1ee8-100a-0600107fa52d</td>\n",
       "      <td>0</td>\n",
       "      <td>0</td>\n",
       "      <td>...</td>\n",
       "      <td>18798.19</td>\n",
       "      <td>0.0</td>\n",
       "      <td>229044.28</td>\n",
       "      <td>0.0</td>\n",
       "      <td>125595.90</td>\n",
       "      <td>0.0</td>\n",
       "      <td>13367.64</td>\n",
       "      <td>13367.64</td>\n",
       "      <td>12530.89</td>\n",
       "      <td>0.0</td>\n",
       "    </tr>\n",
       "  </tbody>\n",
       "</table>\n",
       "<p>5 rows × 6214 columns</p>\n",
       "</div>"
      ],
      "text/plain": [
       "   Unnamed: 0.1_x  Unnamed: 0_x orderType  isTenderAmountBelowEU_x  \\\n",
       "0               0             0  Delivery                     True   \n",
       "1               1             1  Delivery                     True   \n",
       "2               2             2  Delivery                     True   \n",
       "3               3             3  Delivery                     True   \n",
       "4               4             4  Delivery                     True   \n",
       "\n",
       "                                       orderObject_x  \\\n",
       "0  Dostawa gazów medycznych wraz z dzierżawą butl...   \n",
       "1            1-P-23 Akcesoria do urządzeń medycznych   \n",
       "2  Sukcesywna dostawa drobnego sprzętu laboratory...   \n",
       "3             2-P-23  Leki i inne produkty lecznicze   \n",
       "4  Sukcesywna dostawa podstawowych odczynników ch...   \n",
       "\n",
       "                                           tenderId  contractors_x  \\\n",
       "0  ocds-148610-65bc0cb3-86a2-11ed-94da-6ae0fe5e7159            NaN   \n",
       "1  ocds-148610-cd97182f-8a63-11ed-b4ea-f64d350121d2            NaN   \n",
       "2  ocds-148610-f8a2c4f0-8a65-11ed-b4ea-f64d350121d2            NaN   \n",
       "3  ocds-148610-3ee37822-8a68-11ed-94da-6ae0fe5e7159            NaN   \n",
       "4  ocds-148610-c61d386a-8a6f-11ed-94da-6ae0fe5e7159            NaN   \n",
       "\n",
       "                               objectId  71521000-6_x  98390000-3_x  ...  \\\n",
       "0  08daec88-a2be-9d2b-100a-0600107fa4a5             0             0  ...   \n",
       "1  08daec89-e42d-79e6-e8e1-8400116e04c3             0             0  ...   \n",
       "2  08daec8b-e418-1fcc-100a-0600107fa4af             0             0  ...   \n",
       "3  08daec8e-7fa7-7790-e8e1-8400116e04d8             0             0  ...   \n",
       "4  08daec95-45a7-1ee8-100a-0600107fa52d             0             0  ...   \n",
       "\n",
       "       6.3.)  8.4.)      4.3.)  4.5.1.)     4.3.1)  5.2.1.)      6.4.)  \\\n",
       "0  875127.64    0.0       0.00      0.0       0.00      0.0  875127.64   \n",
       "1  192952.95    0.0       0.00      0.0       0.00      0.0  192952.95   \n",
       "2   42074.08    0.0  229044.28      0.0  103448.38      0.0   42074.08   \n",
       "3  134366.04    0.0       0.00      0.0       0.00      0.0  105127.20   \n",
       "4   18798.19    0.0  229044.28      0.0  125595.90      0.0   13367.64   \n",
       "\n",
       "       6.2.)   4.5.5.)  7.4.1.)  \n",
       "0  875127.64      0.00      0.0  \n",
       "1  192952.95  17080.76      0.0  \n",
       "2   42074.08  37393.50      0.0  \n",
       "3  105127.20  27313.40      0.0  \n",
       "4   13367.64  12530.89      0.0  \n",
       "\n",
       "[5 rows x 6214 columns]"
      ]
     },
     "execution_count": 46,
     "metadata": {},
     "output_type": "execute_result"
    }
   ],
   "source": [
    "merged_df = pd.merge(df1, df2, on='tenderId', how='inner')\n",
    "merged_df.head()"
   ]
  },
  {
   "cell_type": "code",
   "execution_count": 49,
   "metadata": {},
   "outputs": [
    {
     "data": {
      "image/png": "[encoded data removed]",
      "text/plain": [
       "<Figure size 600x400 with 2 Axes>"
      ]
     },
     "metadata": {},
     "output_type": "display_data"
    }
   ],
   "source": [
    "import seaborn as sns\n",
    "import matplotlib.pyplot as plt\n",
    "import pandas as pd\n",
    "\n",
    "# Crosstab to count all combinations\n",
    "crosstab = pd.crosstab(merged_df[\"4.3.10.)\"], merged_df[\"7.5_combined\"])\n",
    "\n",
    "# Change the theme\n",
    "sns.set_theme(style=\"whitegrid\")  # Other styles: darkgrid, white, dark, ticks\n",
    "\n",
    "# Plot the heatmap\n",
    "plt.figure(figsize=(6, 4))\n",
    "sns.heatmap(crosstab, annot=True, fmt=\"d\", cmap=\"viridis\", cbar=True, linewidths=0.5)\n",
    "\n",
    "# Add labels and a title\n",
    "plt.title(\"Heatmap of Binary Label Combinations\", fontsize=14)\n",
    "plt.xlabel(\"7.5 Combined (Binary Label)\", fontsize=12)\n",
    "plt.ylabel(\"4.3.10.) (Binary Label)\", fontsize=12)\n",
    "plt.xticks([0.5, 1.5], ['0', '1'], rotation=0, fontsize=10)\n",
    "plt.yticks([0.5, 1.5], ['0', '1'], rotation=0, fontsize=10)\n",
    "\n",
    "# Display the heatmap\n",
    "plt.tight_layout()\n",
    "plt.show()\n"
   ]
  },
  {
   "cell_type": "code",
   "execution_count": 54,
   "metadata": {},
   "outputs": [
    {
     "data": {
      "text/plain": [
       "np.float64(0.1681527822685642)"
      ]
     },
     "execution_count": 54,
     "metadata": {},
     "output_type": "execute_result"
    }
   ],
   "source": [
    "data = merged_df[merged_df[\"6.2.)\"] != 0]\n",
    "correlation6_2 = data[\"7.5_combined\"].corr(data[\"6.2.)\"])\n",
    "correlation6_2"
   ]
  },
  {
   "cell_type": "code",
   "execution_count": 56,
   "metadata": {},
   "outputs": [
    {
     "data": {
      "text/plain": [
       "np.float64(0.1648625258939609)"
      ]
     },
     "execution_count": 56,
     "metadata": {},
     "output_type": "execute_result"
    }
   ],
   "source": [
    "data = merged_df[merged_df[\"8.2.)\"] != 0]\n",
    "correlation8_2 = data[\"7.5_combined\"].corr(data[\"8.2.)\"])\n",
    "correlation8_2"
   ]
  },
  {
   "cell_type": "code",
   "execution_count": 57,
   "metadata": {},
   "outputs": [
    {
     "data": {
      "text/plain": [
       "np.float64(0.1009258364788604)"
      ]
     },
     "execution_count": 57,
     "metadata": {},
     "output_type": "execute_result"
    }
   ],
   "source": [
    "data = merged_df[merged_df[\"4.3.1)\"] != 0]\n",
    "correlation4_3_1 = data[\"7.5_combined\"].corr(data[\"4.3.1)\"])\n",
    "correlation4_3_1"
   ]
  },
  {
   "cell_type": "code",
   "execution_count": 59,
   "metadata": {},
   "outputs": [
    {
     "data": {
      "text/plain": [
       "Text(0.5, 1.0, 'correlation of different price measures with consideration of environmental issues')"
      ]
     },
     "execution_count": 59,
     "metadata": {},
     "output_type": "execute_result"
    },
    {
     "data": {
      "image/png": "[encoded data removed]",
      "text/plain": [
       "<Figure size 640x480 with 1 Axes>"
      ]
     },
     "metadata": {},
     "output_type": "display_data"
    }
   ],
   "source": [
    "plt.bar([\"6.2\", \"8.2\", \"4.3.1\"], [correlation6_2, correlation8_2, correlation4_3_1])\n",
    "plt.title(\"correlation of different price measures with consideration of environmental issues\")"
   ]
  }
 ],
 "metadata": {
  "kernelspec": {
   "display_name": "venv",
   "language": "python",
   "name": "python3"
  },
  "language_info": {
   "codemirror_mode": {
    "name": "ipython",
    "version": 3
   },
   "file_extension": ".py",
   "mimetype": "text/x-python",
   "name": "python",
   "nbconvert_exporter": "python",
   "pygments_lexer": "ipython3",
   "version": "3.11.6"
  }
 },
 "nbformat": 4,
 "nbformat_minor": 2
}
