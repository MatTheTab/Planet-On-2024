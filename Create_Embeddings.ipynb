{
 "cells": [
  {
   "cell_type": "code",
   "execution_count": 1,
   "metadata": {},
   "outputs": [],
   "source": [
    "import pandas as pd\n",
    "import numpy as np\n",
    "from Embedding_Similarity import *"
   ]
  },
  {
   "cell_type": "code",
   "execution_count": 2,
   "metadata": {},
   "outputs": [
    {
     "data": {
      "text/html": [
       "<div>\n",
       "<style scoped>\n",
       "    .dataframe tbody tr th:only-of-type {\n",
       "        vertical-align: middle;\n",
       "    }\n",
       "\n",
       "    .dataframe tbody tr th {\n",
       "        vertical-align: top;\n",
       "    }\n",
       "\n",
       "    .dataframe thead th {\n",
       "        text-align: right;\n",
       "    }\n",
       "</style>\n",
       "<table border=\"1\" class=\"dataframe\">\n",
       "  <thead>\n",
       "    <tr style=\"text-align: right;\">\n",
       "      <th></th>\n",
       "      <th>Unnamed: 0</th>\n",
       "      <th>noticeNumber</th>\n",
       "      <th>orderObject</th>\n",
       "      <th>71521000-6</th>\n",
       "      <th>98390000-3</th>\n",
       "      <th>09133000-0</th>\n",
       "      <th>45210000-2</th>\n",
       "      <th>31310000-2</th>\n",
       "      <th>50112000-3</th>\n",
       "      <th>45442300-0</th>\n",
       "      <th>...</th>\n",
       "      <th>33162000-3</th>\n",
       "      <th>15613311-1</th>\n",
       "      <th>66511000-5</th>\n",
       "      <th>34928400-2</th>\n",
       "      <th>37453300-1</th>\n",
       "      <th>39831500-1</th>\n",
       "      <th>90511300-5</th>\n",
       "      <th>90611000-3</th>\n",
       "      <th>45223500-1</th>\n",
       "      <th>30125100-2</th>\n",
       "    </tr>\n",
       "  </thead>\n",
       "  <tbody>\n",
       "    <tr>\n",
       "      <th>0</th>\n",
       "      <td>9</td>\n",
       "      <td>2023/BZP 00044253/01</td>\n",
       "      <td>Usługi cateringowe i restauracyjne na potrzeby...</td>\n",
       "      <td>0</td>\n",
       "      <td>0</td>\n",
       "      <td>0</td>\n",
       "      <td>0</td>\n",
       "      <td>0</td>\n",
       "      <td>0</td>\n",
       "      <td>0</td>\n",
       "      <td>...</td>\n",
       "      <td>0</td>\n",
       "      <td>0</td>\n",
       "      <td>0</td>\n",
       "      <td>0</td>\n",
       "      <td>0</td>\n",
       "      <td>0</td>\n",
       "      <td>0</td>\n",
       "      <td>0</td>\n",
       "      <td>0</td>\n",
       "      <td>0</td>\n",
       "    </tr>\n",
       "    <tr>\n",
       "      <th>1</th>\n",
       "      <td>12</td>\n",
       "      <td>2023/BZP 00046349/01</td>\n",
       "      <td>CATERING DLA UCZESTNIKÓW PROJEKTU</td>\n",
       "      <td>0</td>\n",
       "      <td>0</td>\n",
       "      <td>0</td>\n",
       "      <td>0</td>\n",
       "      <td>0</td>\n",
       "      <td>0</td>\n",
       "      <td>0</td>\n",
       "      <td>...</td>\n",
       "      <td>0</td>\n",
       "      <td>0</td>\n",
       "      <td>0</td>\n",
       "      <td>0</td>\n",
       "      <td>0</td>\n",
       "      <td>0</td>\n",
       "      <td>0</td>\n",
       "      <td>0</td>\n",
       "      <td>0</td>\n",
       "      <td>0</td>\n",
       "    </tr>\n",
       "    <tr>\n",
       "      <th>2</th>\n",
       "      <td>20</td>\n",
       "      <td>2023/BZP 00049777/01</td>\n",
       "      <td>Wykonanie usługi prania wodnego i czyszczenia ...</td>\n",
       "      <td>0</td>\n",
       "      <td>0</td>\n",
       "      <td>0</td>\n",
       "      <td>0</td>\n",
       "      <td>0</td>\n",
       "      <td>0</td>\n",
       "      <td>0</td>\n",
       "      <td>...</td>\n",
       "      <td>0</td>\n",
       "      <td>0</td>\n",
       "      <td>0</td>\n",
       "      <td>0</td>\n",
       "      <td>0</td>\n",
       "      <td>0</td>\n",
       "      <td>0</td>\n",
       "      <td>0</td>\n",
       "      <td>0</td>\n",
       "      <td>0</td>\n",
       "    </tr>\n",
       "    <tr>\n",
       "      <th>3</th>\n",
       "      <td>38</td>\n",
       "      <td>2023/BZP 00054649/01</td>\n",
       "      <td>Zapewnienie i prowadzenie Otwartych Punktów In...</td>\n",
       "      <td>0</td>\n",
       "      <td>0</td>\n",
       "      <td>0</td>\n",
       "      <td>0</td>\n",
       "      <td>0</td>\n",
       "      <td>0</td>\n",
       "      <td>0</td>\n",
       "      <td>...</td>\n",
       "      <td>0</td>\n",
       "      <td>0</td>\n",
       "      <td>0</td>\n",
       "      <td>0</td>\n",
       "      <td>0</td>\n",
       "      <td>0</td>\n",
       "      <td>0</td>\n",
       "      <td>0</td>\n",
       "      <td>0</td>\n",
       "      <td>0</td>\n",
       "    </tr>\n",
       "    <tr>\n",
       "      <th>4</th>\n",
       "      <td>48</td>\n",
       "      <td>2023/BZP 00056786/01</td>\n",
       "      <td>Konserwacja, naprawa i wymiana elementów insta...</td>\n",
       "      <td>0</td>\n",
       "      <td>0</td>\n",
       "      <td>0</td>\n",
       "      <td>0</td>\n",
       "      <td>0</td>\n",
       "      <td>0</td>\n",
       "      <td>0</td>\n",
       "      <td>...</td>\n",
       "      <td>0</td>\n",
       "      <td>0</td>\n",
       "      <td>0</td>\n",
       "      <td>0</td>\n",
       "      <td>0</td>\n",
       "      <td>0</td>\n",
       "      <td>0</td>\n",
       "      <td>0</td>\n",
       "      <td>0</td>\n",
       "      <td>0</td>\n",
       "    </tr>\n",
       "  </tbody>\n",
       "</table>\n",
       "<p>5 rows × 3135 columns</p>\n",
       "</div>"
      ],
      "text/plain": [
       "   Unnamed: 0          noticeNumber  \\\n",
       "0           9  2023/BZP 00044253/01   \n",
       "1          12  2023/BZP 00046349/01   \n",
       "2          20  2023/BZP 00049777/01   \n",
       "3          38  2023/BZP 00054649/01   \n",
       "4          48  2023/BZP 00056786/01   \n",
       "\n",
       "                                         orderObject  71521000-6  98390000-3  \\\n",
       "0  Usługi cateringowe i restauracyjne na potrzeby...           0           0   \n",
       "1                  CATERING DLA UCZESTNIKÓW PROJEKTU           0           0   \n",
       "2  Wykonanie usługi prania wodnego i czyszczenia ...           0           0   \n",
       "3  Zapewnienie i prowadzenie Otwartych Punktów In...           0           0   \n",
       "4  Konserwacja, naprawa i wymiana elementów insta...           0           0   \n",
       "\n",
       "   09133000-0  45210000-2  31310000-2  50112000-3  45442300-0  ...  \\\n",
       "0           0           0           0           0           0  ...   \n",
       "1           0           0           0           0           0  ...   \n",
       "2           0           0           0           0           0  ...   \n",
       "3           0           0           0           0           0  ...   \n",
       "4           0           0           0           0           0  ...   \n",
       "\n",
       "   33162000-3  15613311-1  66511000-5  34928400-2  37453300-1  39831500-1  \\\n",
       "0           0           0           0           0           0           0   \n",
       "1           0           0           0           0           0           0   \n",
       "2           0           0           0           0           0           0   \n",
       "3           0           0           0           0           0           0   \n",
       "4           0           0           0           0           0           0   \n",
       "\n",
       "   90511300-5  90611000-3  45223500-1  30125100-2  \n",
       "0           0           0           0           0  \n",
       "1           0           0           0           0  \n",
       "2           0           0           0           0  \n",
       "3           0           0           0           0  \n",
       "4           0           0           0           0  \n",
       "\n",
       "[5 rows x 3135 columns]"
      ]
     },
     "execution_count": 2,
     "metadata": {},
     "output_type": "execute_result"
    }
   ],
   "source": [
    "df=pd.read_csv('./data_processed/app_data.csv')\n",
    "df.head()"
   ]
  },
  {
   "cell_type": "code",
   "execution_count": 3,
   "metadata": {},
   "outputs": [
    {
     "data": {
      "text/plain": [
       "(3008, 3135)"
      ]
     },
     "execution_count": 3,
     "metadata": {},
     "output_type": "execute_result"
    }
   ],
   "source": [
    "df.shape"
   ]
  },
  {
   "cell_type": "code",
   "execution_count": 4,
   "metadata": {},
   "outputs": [
    {
     "name": "stderr",
     "output_type": "stream",
     "text": [
      "100%|██████████| 3008/3008 [00:06<00:00, 444.61it/s]\n"
     ]
    }
   ],
   "source": [
    "model = SentenceTransformer('paraphrase-multilingual-MiniLM-L12-v2')\n",
    "embeddings = createEmbeddings(model, df)\n",
    "save_embeddings(embeddings)"
   ]
  },
  {
   "cell_type": "code",
   "execution_count": 5,
   "metadata": {},
   "outputs": [
    {
     "data": {
      "text/plain": [
       "'Zimowe utrzymanie dróg gminnych na terenie Gminy Godziesze Wielkie w 2023 roku'"
      ]
     },
     "execution_count": 5,
     "metadata": {},
     "output_type": "execute_result"
    }
   ],
   "source": [
    "query = \"zimowe drogi i tym podobne?! Dodatkowe slowa\"\n",
    "embeddings = load_embeddings()\n",
    "best_idx = find_most_similar(model, embeddings, query)\n",
    "ans = df.iloc[best_idx][\"orderObject\"]\n",
    "ans"
   ]
  },
  {
   "cell_type": "code",
   "execution_count": null,
   "metadata": {},
   "outputs": [],
   "source": []
  }
 ],
 "metadata": {
  "kernelspec": {
   "display_name": "Python 3",
   "language": "python",
   "name": "python3"
  },
  "language_info": {
   "codemirror_mode": {
    "name": "ipython",
    "version": 3
   },
   "file_extension": ".py",
   "mimetype": "text/x-python",
   "name": "python",
   "nbconvert_exporter": "python",
   "pygments_lexer": "ipython3",
   "version": "3.12.1"
  }
 },
 "nbformat": 4,
 "nbformat_minor": 2
}
