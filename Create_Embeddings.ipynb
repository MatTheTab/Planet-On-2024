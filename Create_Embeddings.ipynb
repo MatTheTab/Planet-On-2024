{
 "cells": [
  {
   "cell_type": "code",
   "execution_count": 1,
   "metadata": {},
   "outputs": [
    {
     "name": "stderr",
     "output_type": "stream",
     "text": [
      "d:\\git-pull-all-nighter\\Planet_on_env\\lib\\site-packages\\tqdm\\auto.py:21: TqdmWarning: IProgress not found. Please update jupyter and ipywidgets. See https://ipywidgets.readthedocs.io/en/stable/user_install.html\n",
      "  from .autonotebook import tqdm as notebook_tqdm\n"
     ]
    }
   ],
   "source": [
    "import pandas as pd\n",
    "import numpy as np\n",
    "from Embedding_Similarity import *"
   ]
  },
  {
   "cell_type": "code",
   "execution_count": 2,
   "metadata": {},
   "outputs": [
    {
     "data": {
      "text/html": [
       "<div>\n",
       "<style scoped>\n",
       "    .dataframe tbody tr th:only-of-type {\n",
       "        vertical-align: middle;\n",
       "    }\n",
       "\n",
       "    .dataframe tbody tr th {\n",
       "        vertical-align: top;\n",
       "    }\n",
       "\n",
       "    .dataframe thead th {\n",
       "        text-align: right;\n",
       "    }\n",
       "</style>\n",
       "<table border=\"1\" class=\"dataframe\">\n",
       "  <thead>\n",
       "    <tr style=\"text-align: right;\">\n",
       "      <th></th>\n",
       "      <th>Unnamed: 0</th>\n",
       "      <th>isTenderAmountBelowEU</th>\n",
       "      <th>orderObject</th>\n",
       "      <th>cpvCode</th>\n",
       "      <th>tenderId</th>\n",
       "      <th>htmlBody</th>\n",
       "      <th>contractors</th>\n",
       "    </tr>\n",
       "  </thead>\n",
       "  <tbody>\n",
       "    <tr>\n",
       "      <th>0</th>\n",
       "      <td>6003</td>\n",
       "      <td>True</td>\n",
       "      <td>Zimowe utrzymanie dróg powiatowych na terenie ...</td>\n",
       "      <td>90620000-9 (Usługi odśnieżania),90630000-2 (Us...</td>\n",
       "      <td>ocds-148610-d3ad1619-8c0e-11ed-b4ea-f64d350121d2</td>\n",
       "      <td>{'4.3.)': 32500.0, '6.2.)': 33000.0, '6.3.)': ...</td>\n",
       "      <td>1</td>\n",
       "    </tr>\n",
       "    <tr>\n",
       "      <th>1</th>\n",
       "      <td>6415</td>\n",
       "      <td>True</td>\n",
       "      <td>Dostawa paliw do samochodów, narzędzi oraz mas...</td>\n",
       "      <td>09100000-0 (Paliwa),09132000-3 (Benzyna)</td>\n",
       "      <td>ocds-148610-c5249d3d-8b57-11ed-94da-6ae0fe5e7159</td>\n",
       "      <td>{'8.2.)': 369000.0}</td>\n",
       "      <td>1</td>\n",
       "    </tr>\n",
       "    <tr>\n",
       "      <th>2</th>\n",
       "      <td>6431</td>\n",
       "      <td>True</td>\n",
       "      <td>Dostawy oleju napędowego na potrzeby ZDP Pasłę...</td>\n",
       "      <td>09134100-8 (Olej napędowy)</td>\n",
       "      <td>ocds-148610-f86bcc02-8b4d-11ed-b4ea-f64d350121d2</td>\n",
       "      <td>{'4.3.)': 286203.25, '6.2.)': 331251.3, '6.3.)...</td>\n",
       "      <td>1</td>\n",
       "    </tr>\n",
       "    <tr>\n",
       "      <th>3</th>\n",
       "      <td>6540</td>\n",
       "      <td>True</td>\n",
       "      <td>Sukcesywna dostawa artykułów spożywczych do st...</td>\n",
       "      <td>15810000-9 (Pieczywo, świeże wyroby piekarskie...</td>\n",
       "      <td>ocds-148610-093d3ef6-8cc8-11ed-94da-6ae0fe5e7159</td>\n",
       "      <td>{'4.3.)': 259460.89, '4.5.5.)': 14220.0, '6.2....</td>\n",
       "      <td>3</td>\n",
       "    </tr>\n",
       "    <tr>\n",
       "      <th>4</th>\n",
       "      <td>6550</td>\n",
       "      <td>True</td>\n",
       "      <td>Obsługa techniczna aparatów do hemodializy ora...</td>\n",
       "      <td>50421000-2 (Usługi w zakresie napraw i konserw...</td>\n",
       "      <td>ocds-148610-743a2b1d-8c1e-11ed-94da-6ae0fe5e7159</td>\n",
       "      <td>{'6.2.)': 542400.11, '6.3.)': 542400.11, '6.4....</td>\n",
       "      <td>1</td>\n",
       "    </tr>\n",
       "  </tbody>\n",
       "</table>\n",
       "</div>"
      ],
      "text/plain": [
       "   Unnamed: 0  isTenderAmountBelowEU  \\\n",
       "0        6003                   True   \n",
       "1        6415                   True   \n",
       "2        6431                   True   \n",
       "3        6540                   True   \n",
       "4        6550                   True   \n",
       "\n",
       "                                         orderObject  \\\n",
       "0  Zimowe utrzymanie dróg powiatowych na terenie ...   \n",
       "1  Dostawa paliw do samochodów, narzędzi oraz mas...   \n",
       "2  Dostawy oleju napędowego na potrzeby ZDP Pasłę...   \n",
       "3  Sukcesywna dostawa artykułów spożywczych do st...   \n",
       "4  Obsługa techniczna aparatów do hemodializy ora...   \n",
       "\n",
       "                                             cpvCode  \\\n",
       "0  90620000-9 (Usługi odśnieżania),90630000-2 (Us...   \n",
       "1           09100000-0 (Paliwa),09132000-3 (Benzyna)   \n",
       "2                         09134100-8 (Olej napędowy)   \n",
       "3  15810000-9 (Pieczywo, świeże wyroby piekarskie...   \n",
       "4  50421000-2 (Usługi w zakresie napraw i konserw...   \n",
       "\n",
       "                                           tenderId  \\\n",
       "0  ocds-148610-d3ad1619-8c0e-11ed-b4ea-f64d350121d2   \n",
       "1  ocds-148610-c5249d3d-8b57-11ed-94da-6ae0fe5e7159   \n",
       "2  ocds-148610-f86bcc02-8b4d-11ed-b4ea-f64d350121d2   \n",
       "3  ocds-148610-093d3ef6-8cc8-11ed-94da-6ae0fe5e7159   \n",
       "4  ocds-148610-743a2b1d-8c1e-11ed-94da-6ae0fe5e7159   \n",
       "\n",
       "                                            htmlBody  contractors  \n",
       "0  {'4.3.)': 32500.0, '6.2.)': 33000.0, '6.3.)': ...            1  \n",
       "1                                {'8.2.)': 369000.0}            1  \n",
       "2  {'4.3.)': 286203.25, '6.2.)': 331251.3, '6.3.)...            1  \n",
       "3  {'4.3.)': 259460.89, '4.5.5.)': 14220.0, '6.2....            3  \n",
       "4  {'6.2.)': 542400.11, '6.3.)': 542400.11, '6.4....            1  "
      ]
     },
     "execution_count": 2,
     "metadata": {},
     "output_type": "execute_result"
    }
   ],
   "source": [
    "df=pd.read_csv('./data_processed/subsetWyniki10k.csv')\n",
    "df.head()"
   ]
  },
  {
   "cell_type": "code",
   "execution_count": 3,
   "metadata": {},
   "outputs": [
    {
     "name": "stderr",
     "output_type": "stream",
     "text": [
      "100%|██████████| 10000/10000 [00:00<00:00, 12803.55it/s]\n"
     ]
    }
   ],
   "source": [
    "model = SentenceTransformer('paraphrase-multilingual-MiniLM-L12-v2')\n",
    "embeddings = createEmbeddings(model, df)\n",
    "save_embeddings(embeddings)"
   ]
  },
  {
   "cell_type": "code",
   "execution_count": 7,
   "metadata": {},
   "outputs": [
    {
     "data": {
      "text/plain": [
       "'Zimowe utrzymanie dróg gminnych na terenie Gminy Godziesze Wielkie w 2023 roku'"
      ]
     },
     "execution_count": 7,
     "metadata": {},
     "output_type": "execute_result"
    }
   ],
   "source": [
    "query = \"zimowe drogi i tym podobne?! Dodatkowe slowa\"\n",
    "embeddings = load_embeddings()\n",
    "best_idx = find_most_similar(model, embeddings, query)\n",
    "ans = df.iloc[best_idx][\"orderObject\"]\n",
    "ans"
   ]
  }
 ],
 "metadata": {
  "kernelspec": {
   "display_name": "Planet_on_env",
   "language": "python",
   "name": "python3"
  },
  "language_info": {
   "codemirror_mode": {
    "name": "ipython",
    "version": 3
   },
   "file_extension": ".py",
   "mimetype": "text/x-python",
   "name": "python",
   "nbconvert_exporter": "python",
   "pygments_lexer": "ipython3",
   "version": "3.10.6"
  }
 },
 "nbformat": 4,
 "nbformat_minor": 2
}
